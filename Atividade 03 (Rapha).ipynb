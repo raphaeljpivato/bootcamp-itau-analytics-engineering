{
 "cells": [
  {
   "attachments": {},
   "cell_type": "markdown",
   "id": "ebfbea4e",
   "metadata": {},
   "source": [
    "# Atividade 3\n",
    "\n",
    "Faça tudo via dbt. \n",
    "\n",
    "Envia como resposta:\n",
    "- A query SQL\n",
    "- Comando utilizado via terminal no `dbt`\n",
    "- Um print do resultado no próprio notebook, para isso é necessário criar uma pasta no repositório onde serão armazenadas as imagens, e para inserir no notebook é necessário criar uma célula `markdown` e inserir o seguinte comando: \n",
    "\n",
    "```markdown\n",
    "![Nome da Foto](path/para/imagem)\n",
    "```"
   ]
  },
  {
   "attachments": {},
   "cell_type": "markdown",
   "id": "c0c42967",
   "metadata": {},
   "source": [
    "# 1\n",
    "1. Crie uma tabela `orders_by_year` a partir de `orders` que agrupa a quantidade de pedidos por ano, considerando a coluna `order_approved_at`"
   ]
  },
  {
   "attachments": {},
   "cell_type": "markdown",
   "id": "269a5b65",
   "metadata": {},
   "source": [
    "``` sql\n",
    "{{ config(materialized='table') }}\n",
    "\n",
    "SELECT\n",
    "    EXTRACT(YEAR FROM order_approved_at) AS ano,\n",
    "    COUNT(*) AS contagem_ordens\n",
    "FROM \n",
    "    `dbt_shop.orders`\n",
    "GROUP BY \n",
    "    ano\n",
    "ORDER BY\n",
    "    ano\n",
    "```"
   ]
  },
  {
   "attachments": {},
   "cell_type": "markdown",
   "id": "79ee3c3c",
   "metadata": {},
   "source": [
    "dbt run --models ativ.A3_01_orders_by_year"
   ]
  },
  {
   "attachments": {},
   "cell_type": "markdown",
   "id": "62b408a9",
   "metadata": {},
   "source": [
    "![Orders by year](dbt_atividade_3_imagens/01_orders_by_year.png)"
   ]
  },
  {
   "attachments": {},
   "cell_type": "markdown",
   "id": "aa520524",
   "metadata": {},
   "source": [
    "# 2\n",
    "2. Crie uma `view` que agrega os totais de pedidos por estado. Considere as tabelas _customers_ para obter os estados (coluna _customer_state_) e _orders_ para contabilizar a quantidade de pedidos."
   ]
  },
  {
   "cell_type": "markdown",
   "id": "1972c8bf",
   "metadata": {},
   "source": [
    "``` sql\n",
    "SELECT\n",
    "    customer_state AS estado,\n",
    "    COUNT(*) AS contagem_ordens\n",
    "FROM \n",
    "    `dbt_shop.orders`\n",
    "INNER JOIN\n",
    "    `dbt_shop.customers`\n",
    "ON\n",
    "    `dbt_shop.orders`.customer_id = `dbt_shop.customers`.customer_id\n",
    "GROUP BY \n",
    "    estado\n",
    "ORDER BY\n",
    "    estado\n",
    "```"
   ]
  },
  {
   "cell_type": "markdown",
   "id": "ae42b2e1",
   "metadata": {},
   "source": [
    "dbt run --models A3_02_orders_by_state"
   ]
  },
  {
   "attachments": {},
   "cell_type": "markdown",
   "id": "e96729b8",
   "metadata": {},
   "source": [
    "![Orders by state](dbt_atividade_3_imagens/02_orders_by_state.png)"
   ]
  },
  {
   "attachments": {},
   "cell_type": "markdown",
   "id": "54e0e5f1",
   "metadata": {},
   "source": [
    "# 3\n",
    "3. De acordo com o resultado do exercício 2 retorne apenas os estados que tem mais de 5000 pedidos, esse número deve ser passado via variável `number_of_orders` do `dbt`."
   ]
  },
  {
   "attachments": {},
   "cell_type": "markdown",
   "id": "9c40eabc",
   "metadata": {},
   "source": [
    "``` sql\n",
    "SELECT\n",
    "    estado\n",
    "FROM\n",
    "    `atividade_3.A3_02_orders_by_state`\n",
    "WHERE\n",
    "    contagem_ordens > CAST('{{ var(\"number_of_orders\") }}' AS INTEGER)\n",
    "ORDER BY\n",
    "    estado\n",
    "\n",
    "```"
   ]
  },
  {
   "cell_type": "markdown",
   "id": "0149ee8f",
   "metadata": {},
   "source": [
    "dbt run --models A3_03_state_by_order_count --vars \"{'number_of_orders': 5000}\""
   ]
  },
  {
   "attachments": {},
   "cell_type": "markdown",
   "id": "c258956a",
   "metadata": {},
   "source": [
    "![State by Order Count](dbt_atividade_3_imagens/03_state_by_order_count.png)"
   ]
  },
  {
   "attachments": {},
   "cell_type": "markdown",
   "id": "9c3ad0cc",
   "metadata": {},
   "source": [
    "# 4\n",
    "4. Crie uma `view` chamada `customers_by_region` que utiliza os dados da tabela `customers`. A visão deve realizar uma agregação por região do Brasil (Norte, Nordeste, Sudeste, Centro Oeste e Sul) e contar o número de clientes em cada uma delas."
   ]
  },
  {
   "attachments": {},
   "cell_type": "markdown",
   "id": "390cb037",
   "metadata": {},
   "source": [
    "Estados por região:\n",
    "- Norte:\n",
    "    AC\n",
    "    AP\n",
    "    AM\n",
    "    PA\n",
    "    RO\n",
    "    RR\n",
    "    TO\n",
    "\n",
    "- Nordeste:\n",
    "    AL\n",
    "    BA\n",
    "    CE\n",
    "    MA\n",
    "    PB\n",
    "    PE\n",
    "    PI\n",
    "    RN\n",
    "    SE\n",
    "\n",
    "- Sudeste:\n",
    "    ES\n",
    "    MG\n",
    "    RJ\n",
    "    SP\n",
    "\n",
    "- Centro-Oeste:\n",
    "    DF\n",
    "    GO\n",
    "    MT\n",
    "    MS\n",
    "\n",
    "- Sul:\n",
    "    PR\n",
    "    RS\n",
    "    SC\n",
    "\n",
    "#### (Tentei criar uma tabela de domínio para auxiliar essa query por join e remover os cases/ifs, mas o GCP exigiu cadastrar método de pagamento para inserir dados brutos em uma nova tabela). Segue a query longa para contornar o problema"
   ]
  },
  {
   "attachments": {},
   "cell_type": "markdown",
   "id": "a7f8a0db",
   "metadata": {},
   "source": [
    "``` sql\n",
    "WITH customer_count_by_state AS (\n",
    "    SELECT\n",
    "        customer_state,\n",
    "        COUNT(*) AS customer_count\n",
    "    FROM\n",
    "        `dbt_shop.customers`\n",
    "    GROUP BY\n",
    "        customer_state\n",
    ")\n",
    "SELECT\n",
    "    IF (\n",
    "        customer_state = 'AC' OR customer_state = 'AP' OR customer_state = 'AM' OR customer_state = 'PA' OR customer_state = 'RO' OR customer_state = 'RR' OR customer_state = 'TO',\n",
    "        'Norte',\n",
    "        IF (\n",
    "            customer_state = 'AL' OR customer_state = 'BA' OR customer_state = 'CE' OR customer_state = 'MA' OR customer_state = 'PB' OR customer_state = 'PE' OR customer_state = 'PI' OR customer_state = 'RN' OR customer_state = 'SE',\n",
    "            'Nordeste',\n",
    "            IF (\n",
    "                customer_state = 'ES' OR customer_state = 'MG' OR customer_state = 'RJ' OR customer_state = 'SP',\n",
    "                'Sudeste',\n",
    "                IF (\n",
    "                    customer_state = 'DF' OR customer_state = 'GO' OR customer_state = 'MT' OR customer_state = 'MS',\n",
    "                    'Centro-Oeste',\n",
    "                    IF (\n",
    "                        customer_state = 'PR' OR customer_state = 'RS' OR customer_state = 'SC',\n",
    "                        'Sul',\n",
    "                        NULL\n",
    "                    )\n",
    "                )\n",
    "            )\n",
    "        )\n",
    "    ) AS region_name,\n",
    "    SUM(customer_count) AS customer_count\n",
    "FROM\n",
    "    customer_count_by_state\n",
    "GROUP BY\n",
    "    region_name\n",
    "ORDER BY\n",
    "    region_name\n",
    "\n",
    "\n",
    "```"
   ]
  },
  {
   "attachments": {},
   "cell_type": "markdown",
   "id": "70bbfd14",
   "metadata": {},
   "source": [
    "dbt run --models A3_04_customer_by_region"
   ]
  },
  {
   "attachments": {},
   "cell_type": "markdown",
   "id": "7b893bdb",
   "metadata": {},
   "source": [
    "![Customer by Region](dbt_atividade_3_imagens/04_customer_by_region.png)"
   ]
  },
  {
   "attachments": {},
   "cell_type": "markdown",
   "id": "d4c16290",
   "metadata": {},
   "source": [
    "# 5\n",
    "5. Crie uma tabela `items_costs` que contenha o preço total de um item (soma do valor do produto com o frete)."
   ]
  },
  {
   "attachments": {},
   "cell_type": "markdown",
   "id": "5901d276",
   "metadata": {},
   "source": [
    "``` sql\n",
    "{{ config(materialized='table') }}\n",
    "\n",
    "SELECT\n",
    "    order_id,\n",
    "    product_id,\n",
    "    price + freight_value AS item_cost\n",
    "FROM\n",
    "    `dbt_shop.items`\n",
    "GROUP BY\n",
    "    order_id, product_id, item_cost\n",
    "```"
   ]
  },
  {
   "cell_type": "markdown",
   "id": "7c4f61c9",
   "metadata": {},
   "source": [
    "dbt run --models A3_05_item_cost"
   ]
  },
  {
   "attachments": {},
   "cell_type": "markdown",
   "id": "175c23f1",
   "metadata": {},
   "source": [
    "![Item Cost](dbt_atividade_3_imagens/05_item_cost.png)"
   ]
  },
  {
   "attachments": {},
   "cell_type": "markdown",
   "id": "08cc4c02",
   "metadata": {},
   "source": [
    "# 6\n",
    "6. Crie uma `view` com o nome `orders_shipped_costs`, você deve calcular o preço total do pedido somado com o frete, apenas para pedidos enviado (shipped)."
   ]
  },
  {
   "attachments": {},
   "cell_type": "markdown",
   "id": "2cdbf374",
   "metadata": {},
   "source": [
    "``` sql\n",
    "SELECT\n",
    "    o.order_id AS order_id,\n",
    "    SUM(i.price + i.freight_value) AS total_cost\n",
    "FROM\n",
    "    `dbt_shop.items` i\n",
    "INNER JOIN\n",
    "    `dbt_shop.orders` o\n",
    "ON o.order_id = i.order_id\n",
    "WHERE\n",
    "    o.order_status = 'shipped'\n",
    "GROUP BY\n",
    "    o.order_id\n",
    "```"
   ]
  },
  {
   "attachments": {},
   "cell_type": "markdown",
   "id": "d0f3abd2",
   "metadata": {},
   "source": [
    "dbt run --models A3_06_orders_shipped_cost"
   ]
  },
  {
   "attachments": {},
   "cell_type": "markdown",
   "id": "7ef7733c",
   "metadata": {},
   "source": [
    "![Orders Shipped Cost](dbt_atividade_3_imagens/06_orders_shipped_cost.png)"
   ]
  }
 ],
 "metadata": {
  "kernelspec": {
   "display_name": "Python 3",
   "language": "python",
   "name": "python3"
  },
  "language_info": {
   "codemirror_mode": {
    "name": "ipython",
    "version": 3
   },
   "file_extension": ".py",
   "mimetype": "text/x-python",
   "name": "python",
   "nbconvert_exporter": "python",
   "pygments_lexer": "ipython3",
   "version": "3.9.2"
  }
 },
 "nbformat": 4,
 "nbformat_minor": 5
}
